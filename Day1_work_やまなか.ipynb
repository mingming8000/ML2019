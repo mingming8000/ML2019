{
 "cells": [
  {
   "cell_type": "markdown",
   "metadata": {},
   "source": [
    "# Car Fuel Consumption"
   ]
  },
  {
   "cell_type": "markdown",
   "metadata": {},
   "source": [
    "## データセットの確認"
   ]
  },
  {
   "cell_type": "code",
   "execution_count": 1,
   "metadata": {},
   "outputs": [],
   "source": [
    "%matplotlib inline\n",
    "import numpy as np\n",
    "import pandas as pd\n",
    "\n",
    "import matplotlib.pyplot as plt\n",
    "import seaborn as  sns"
   ]
  },
  {
   "cell_type": "markdown",
   "metadata": {},
   "source": [
    "### データセットの読込み\n",
    "\n",
    "CSVファイルは小数点のカンマ -> ピリオド変換のやり方がわからないためExcelのデータを読込む。"
   ]
  },
  {
   "cell_type": "code",
   "execution_count": 2,
   "metadata": {},
   "outputs": [],
   "source": [
    "# Excelファイルの読込み\n",
    "df = pd.read_excel('./input/measurements2.xlsx')"
   ]
  },
  {
   "cell_type": "code",
   "execution_count": 3,
   "metadata": {},
   "outputs": [
    {
     "data": {
      "text/plain": [
       "388"
      ]
     },
     "execution_count": 3,
     "metadata": {},
     "output_type": "execute_result"
    }
   ],
   "source": [
    "# レコード数確認\n",
    "len(df)"
   ]
  },
  {
   "cell_type": "code",
   "execution_count": 4,
   "metadata": {},
   "outputs": [
    {
     "name": "stdout",
     "output_type": "stream",
     "text": [
      "<class 'pandas.core.frame.DataFrame'>\n",
      "RangeIndex: 388 entries, 0 to 387\n",
      "Data columns (total 12 columns):\n",
      "distance         388 non-null float64\n",
      "consume          388 non-null float64\n",
      "speed            388 non-null int64\n",
      "temp_inside      376 non-null float64\n",
      "temp_outside     388 non-null int64\n",
      "specials         93 non-null object\n",
      "gas_type         388 non-null object\n",
      "AC               388 non-null int64\n",
      "rain             388 non-null int64\n",
      "sun              388 non-null int64\n",
      "refill liters    13 non-null float64\n",
      "refill gas       13 non-null object\n",
      "dtypes: float64(4), int64(5), object(3)\n",
      "memory usage: 36.5+ KB\n"
     ]
    }
   ],
   "source": [
    "# データの概要\n",
    "df.info()"
   ]
  },
  {
   "cell_type": "markdown",
   "metadata": {},
   "source": [
    "#### 欠損値の補完\n",
    "\n",
    "temp_insideに若干数の欠損値があるため、平均or中央値or最頻値で補完する。  \n",
    "specials、refill liters、refill gasは欠損値が多すぎるため諦める。"
   ]
  },
  {
   "cell_type": "code",
   "execution_count": 5,
   "metadata": {},
   "outputs": [
    {
     "data": {
      "text/html": [
       "<div>\n",
       "<style scoped>\n",
       "    .dataframe tbody tr th:only-of-type {\n",
       "        vertical-align: middle;\n",
       "    }\n",
       "\n",
       "    .dataframe tbody tr th {\n",
       "        vertical-align: top;\n",
       "    }\n",
       "\n",
       "    .dataframe thead th {\n",
       "        text-align: right;\n",
       "    }\n",
       "</style>\n",
       "<table border=\"1\" class=\"dataframe\">\n",
       "  <thead>\n",
       "    <tr style=\"text-align: right;\">\n",
       "      <th></th>\n",
       "      <th>distance</th>\n",
       "      <th>consume</th>\n",
       "      <th>speed</th>\n",
       "      <th>temp_inside</th>\n",
       "      <th>temp_outside</th>\n",
       "      <th>AC</th>\n",
       "      <th>rain</th>\n",
       "      <th>sun</th>\n",
       "      <th>refill liters</th>\n",
       "    </tr>\n",
       "  </thead>\n",
       "  <tbody>\n",
       "    <tr>\n",
       "      <td>count</td>\n",
       "      <td>388.000000</td>\n",
       "      <td>388.000000</td>\n",
       "      <td>388.000000</td>\n",
       "      <td>376.000000</td>\n",
       "      <td>388.000000</td>\n",
       "      <td>388.000000</td>\n",
       "      <td>388.000000</td>\n",
       "      <td>388.000000</td>\n",
       "      <td>13.000000</td>\n",
       "    </tr>\n",
       "    <tr>\n",
       "      <td>mean</td>\n",
       "      <td>19.652835</td>\n",
       "      <td>4.912371</td>\n",
       "      <td>41.927835</td>\n",
       "      <td>21.929521</td>\n",
       "      <td>11.358247</td>\n",
       "      <td>0.077320</td>\n",
       "      <td>0.123711</td>\n",
       "      <td>0.082474</td>\n",
       "      <td>37.115385</td>\n",
       "    </tr>\n",
       "    <tr>\n",
       "      <td>std</td>\n",
       "      <td>22.667837</td>\n",
       "      <td>1.033172</td>\n",
       "      <td>13.598524</td>\n",
       "      <td>1.010455</td>\n",
       "      <td>6.991542</td>\n",
       "      <td>0.267443</td>\n",
       "      <td>0.329677</td>\n",
       "      <td>0.275441</td>\n",
       "      <td>8.587282</td>\n",
       "    </tr>\n",
       "    <tr>\n",
       "      <td>min</td>\n",
       "      <td>1.300000</td>\n",
       "      <td>3.300000</td>\n",
       "      <td>14.000000</td>\n",
       "      <td>19.000000</td>\n",
       "      <td>-5.000000</td>\n",
       "      <td>0.000000</td>\n",
       "      <td>0.000000</td>\n",
       "      <td>0.000000</td>\n",
       "      <td>10.000000</td>\n",
       "    </tr>\n",
       "    <tr>\n",
       "      <td>25%</td>\n",
       "      <td>11.800000</td>\n",
       "      <td>4.300000</td>\n",
       "      <td>32.750000</td>\n",
       "      <td>21.500000</td>\n",
       "      <td>7.000000</td>\n",
       "      <td>0.000000</td>\n",
       "      <td>0.000000</td>\n",
       "      <td>0.000000</td>\n",
       "      <td>37.600000</td>\n",
       "    </tr>\n",
       "    <tr>\n",
       "      <td>50%</td>\n",
       "      <td>14.600000</td>\n",
       "      <td>4.700000</td>\n",
       "      <td>40.500000</td>\n",
       "      <td>22.000000</td>\n",
       "      <td>10.000000</td>\n",
       "      <td>0.000000</td>\n",
       "      <td>0.000000</td>\n",
       "      <td>0.000000</td>\n",
       "      <td>38.000000</td>\n",
       "    </tr>\n",
       "    <tr>\n",
       "      <td>75%</td>\n",
       "      <td>19.000000</td>\n",
       "      <td>5.300000</td>\n",
       "      <td>50.000000</td>\n",
       "      <td>22.500000</td>\n",
       "      <td>16.000000</td>\n",
       "      <td>0.000000</td>\n",
       "      <td>0.000000</td>\n",
       "      <td>0.000000</td>\n",
       "      <td>39.000000</td>\n",
       "    </tr>\n",
       "    <tr>\n",
       "      <td>max</td>\n",
       "      <td>216.100000</td>\n",
       "      <td>12.200000</td>\n",
       "      <td>90.000000</td>\n",
       "      <td>25.500000</td>\n",
       "      <td>31.000000</td>\n",
       "      <td>1.000000</td>\n",
       "      <td>1.000000</td>\n",
       "      <td>1.000000</td>\n",
       "      <td>45.000000</td>\n",
       "    </tr>\n",
       "  </tbody>\n",
       "</table>\n",
       "</div>"
      ],
      "text/plain": [
       "         distance     consume       speed  temp_inside  temp_outside  \\\n",
       "count  388.000000  388.000000  388.000000   376.000000    388.000000   \n",
       "mean    19.652835    4.912371   41.927835    21.929521     11.358247   \n",
       "std     22.667837    1.033172   13.598524     1.010455      6.991542   \n",
       "min      1.300000    3.300000   14.000000    19.000000     -5.000000   \n",
       "25%     11.800000    4.300000   32.750000    21.500000      7.000000   \n",
       "50%     14.600000    4.700000   40.500000    22.000000     10.000000   \n",
       "75%     19.000000    5.300000   50.000000    22.500000     16.000000   \n",
       "max    216.100000   12.200000   90.000000    25.500000     31.000000   \n",
       "\n",
       "               AC        rain         sun  refill liters  \n",
       "count  388.000000  388.000000  388.000000      13.000000  \n",
       "mean     0.077320    0.123711    0.082474      37.115385  \n",
       "std      0.267443    0.329677    0.275441       8.587282  \n",
       "min      0.000000    0.000000    0.000000      10.000000  \n",
       "25%      0.000000    0.000000    0.000000      37.600000  \n",
       "50%      0.000000    0.000000    0.000000      38.000000  \n",
       "75%      0.000000    0.000000    0.000000      39.000000  \n",
       "max      1.000000    1.000000    1.000000      45.000000  "
      ]
     },
     "execution_count": 5,
     "metadata": {},
     "output_type": "execute_result"
    }
   ],
   "source": [
    "# データの概要確認\n",
    "df.describe()"
   ]
  },
  {
   "cell_type": "code",
   "execution_count": 6,
   "metadata": {},
   "outputs": [],
   "source": [
    "# temp_insideの75%は２２℃近辺なので平均値の約21.9℃で欠損値を補完する。\n",
    "df_copy = df.copy()\n",
    "df_copy.temp_inside = df_copy.temp_inside.fillna(df_copy.temp_inside.mean())"
   ]
  },
  {
   "cell_type": "code",
   "execution_count": 7,
   "metadata": {},
   "outputs": [
    {
     "name": "stdout",
     "output_type": "stream",
     "text": [
      "<class 'pandas.core.frame.DataFrame'>\n",
      "RangeIndex: 388 entries, 0 to 387\n",
      "Data columns (total 12 columns):\n",
      "distance         388 non-null float64\n",
      "consume          388 non-null float64\n",
      "speed            388 non-null int64\n",
      "temp_inside      388 non-null float64\n",
      "temp_outside     388 non-null int64\n",
      "specials         93 non-null object\n",
      "gas_type         388 non-null object\n",
      "AC               388 non-null int64\n",
      "rain             388 non-null int64\n",
      "sun              388 non-null int64\n",
      "refill liters    13 non-null float64\n",
      "refill gas       13 non-null object\n",
      "dtypes: float64(4), int64(5), object(3)\n",
      "memory usage: 36.5+ KB\n"
     ]
    }
   ],
   "source": [
    "# 補完後の確認\n",
    "df_copy.info()"
   ]
  },
  {
   "cell_type": "markdown",
   "metadata": {},
   "source": [
    "### gas_typeごとのデータ分離\n",
    "\n",
    "下記のように置き換えた後、gas_typeごとのデータに分離する。\n",
    "\n",
    "- E10 → 1\n",
    "- SP98 → 2"
   ]
  },
  {
   "cell_type": "code",
   "execution_count": 8,
   "metadata": {},
   "outputs": [
    {
     "data": {
      "text/plain": [
       "gas_type\n",
       "E10     160\n",
       "SP98    228\n",
       "dtype: int64"
      ]
     },
     "execution_count": 8,
     "metadata": {},
     "output_type": "execute_result"
    }
   ],
   "source": [
    "# 置き換え前\n",
    "df_gastype_replace = df_copy.copy()\n",
    "df_gastype_replace.groupby('gas_type').size()"
   ]
  },
  {
   "cell_type": "code",
   "execution_count": 9,
   "metadata": {},
   "outputs": [],
   "source": [
    "# ガスの種類を二値で判別（E10=1,SP98=2）\n",
    "df_gastype_replace = df_gastype_replace.replace(\"E10\",1)\n",
    "df_gastype_replace = df_gastype_replace.replace(\"SP98\",2)"
   ]
  },
  {
   "cell_type": "code",
   "execution_count": 10,
   "metadata": {},
   "outputs": [
    {
     "data": {
      "text/plain": [
       "gas_type\n",
       "1    160\n",
       "2    228\n",
       "dtype: int64"
      ]
     },
     "execution_count": 10,
     "metadata": {},
     "output_type": "execute_result"
    }
   ],
   "source": [
    "# 置き換え後\n",
    "df_gastype_replace.groupby('gas_type').size()"
   ]
  },
  {
   "cell_type": "code",
   "execution_count": 11,
   "metadata": {},
   "outputs": [],
   "source": [
    "# gas_typeごとのデータに分離\n",
    "E10 = df_gastype_replace[df_gastype_replace.gas_type == 1][[\"distance\",\"consume\",\"speed\",\"temp_inside\",\"temp_outside\",\"rain\",\"sun\",\"AC\"]].copy()\n",
    "SP98 = df_gastype_replace[df_gastype_replace.gas_type == 2][[\"distance\",\"consume\",\"speed\",\"temp_inside\",\"temp_outside\",\"rain\",\"sun\",\"AC\"]].copy()"
   ]
  },
  {
   "cell_type": "code",
   "execution_count": 12,
   "metadata": {},
   "outputs": [
    {
     "data": {
      "text/html": [
       "<div>\n",
       "<style scoped>\n",
       "    .dataframe tbody tr th:only-of-type {\n",
       "        vertical-align: middle;\n",
       "    }\n",
       "\n",
       "    .dataframe tbody tr th {\n",
       "        vertical-align: top;\n",
       "    }\n",
       "\n",
       "    .dataframe thead th {\n",
       "        text-align: right;\n",
       "    }\n",
       "</style>\n",
       "<table border=\"1\" class=\"dataframe\">\n",
       "  <thead>\n",
       "    <tr style=\"text-align: right;\">\n",
       "      <th></th>\n",
       "      <th>distance</th>\n",
       "      <th>consume</th>\n",
       "      <th>speed</th>\n",
       "      <th>temp_inside</th>\n",
       "      <th>temp_outside</th>\n",
       "      <th>rain</th>\n",
       "      <th>sun</th>\n",
       "      <th>AC</th>\n",
       "    </tr>\n",
       "  </thead>\n",
       "  <tbody>\n",
       "    <tr>\n",
       "      <td>count</td>\n",
       "      <td>160.000000</td>\n",
       "      <td>160.000000</td>\n",
       "      <td>160.000000</td>\n",
       "      <td>160.000000</td>\n",
       "      <td>160.000000</td>\n",
       "      <td>160.000000</td>\n",
       "      <td>160.000000</td>\n",
       "      <td>160.000000</td>\n",
       "    </tr>\n",
       "    <tr>\n",
       "      <td>mean</td>\n",
       "      <td>21.096250</td>\n",
       "      <td>4.931250</td>\n",
       "      <td>43.506250</td>\n",
       "      <td>21.917429</td>\n",
       "      <td>10.118750</td>\n",
       "      <td>0.100000</td>\n",
       "      <td>0.075000</td>\n",
       "      <td>0.043750</td>\n",
       "    </tr>\n",
       "    <tr>\n",
       "      <td>std</td>\n",
       "      <td>20.307234</td>\n",
       "      <td>0.900956</td>\n",
       "      <td>14.077949</td>\n",
       "      <td>0.653602</td>\n",
       "      <td>6.392185</td>\n",
       "      <td>0.300942</td>\n",
       "      <td>0.264218</td>\n",
       "      <td>0.205181</td>\n",
       "    </tr>\n",
       "    <tr>\n",
       "      <td>min</td>\n",
       "      <td>1.700000</td>\n",
       "      <td>3.700000</td>\n",
       "      <td>14.000000</td>\n",
       "      <td>21.000000</td>\n",
       "      <td>-5.000000</td>\n",
       "      <td>0.000000</td>\n",
       "      <td>0.000000</td>\n",
       "      <td>0.000000</td>\n",
       "    </tr>\n",
       "    <tr>\n",
       "      <td>25%</td>\n",
       "      <td>12.075000</td>\n",
       "      <td>4.400000</td>\n",
       "      <td>35.000000</td>\n",
       "      <td>21.500000</td>\n",
       "      <td>6.000000</td>\n",
       "      <td>0.000000</td>\n",
       "      <td>0.000000</td>\n",
       "      <td>0.000000</td>\n",
       "    </tr>\n",
       "    <tr>\n",
       "      <td>50%</td>\n",
       "      <td>15.400000</td>\n",
       "      <td>4.800000</td>\n",
       "      <td>42.000000</td>\n",
       "      <td>21.500000</td>\n",
       "      <td>9.000000</td>\n",
       "      <td>0.000000</td>\n",
       "      <td>0.000000</td>\n",
       "      <td>0.000000</td>\n",
       "    </tr>\n",
       "    <tr>\n",
       "      <td>75%</td>\n",
       "      <td>21.200000</td>\n",
       "      <td>5.300000</td>\n",
       "      <td>51.000000</td>\n",
       "      <td>22.500000</td>\n",
       "      <td>14.250000</td>\n",
       "      <td>0.000000</td>\n",
       "      <td>0.000000</td>\n",
       "      <td>0.000000</td>\n",
       "    </tr>\n",
       "    <tr>\n",
       "      <td>max</td>\n",
       "      <td>130.300000</td>\n",
       "      <td>10.800000</td>\n",
       "      <td>88.000000</td>\n",
       "      <td>25.000000</td>\n",
       "      <td>27.000000</td>\n",
       "      <td>1.000000</td>\n",
       "      <td>1.000000</td>\n",
       "      <td>1.000000</td>\n",
       "    </tr>\n",
       "  </tbody>\n",
       "</table>\n",
       "</div>"
      ],
      "text/plain": [
       "         distance     consume       speed  temp_inside  temp_outside  \\\n",
       "count  160.000000  160.000000  160.000000   160.000000    160.000000   \n",
       "mean    21.096250    4.931250   43.506250    21.917429     10.118750   \n",
       "std     20.307234    0.900956   14.077949     0.653602      6.392185   \n",
       "min      1.700000    3.700000   14.000000    21.000000     -5.000000   \n",
       "25%     12.075000    4.400000   35.000000    21.500000      6.000000   \n",
       "50%     15.400000    4.800000   42.000000    21.500000      9.000000   \n",
       "75%     21.200000    5.300000   51.000000    22.500000     14.250000   \n",
       "max    130.300000   10.800000   88.000000    25.000000     27.000000   \n",
       "\n",
       "             rain         sun          AC  \n",
       "count  160.000000  160.000000  160.000000  \n",
       "mean     0.100000    0.075000    0.043750  \n",
       "std      0.300942    0.264218    0.205181  \n",
       "min      0.000000    0.000000    0.000000  \n",
       "25%      0.000000    0.000000    0.000000  \n",
       "50%      0.000000    0.000000    0.000000  \n",
       "75%      0.000000    0.000000    0.000000  \n",
       "max      1.000000    1.000000    1.000000  "
      ]
     },
     "execution_count": 12,
     "metadata": {},
     "output_type": "execute_result"
    }
   ],
   "source": [
    "E10.describe()"
   ]
  },
  {
   "cell_type": "code",
   "execution_count": 13,
   "metadata": {},
   "outputs": [
    {
     "data": {
      "text/html": [
       "<div>\n",
       "<style scoped>\n",
       "    .dataframe tbody tr th:only-of-type {\n",
       "        vertical-align: middle;\n",
       "    }\n",
       "\n",
       "    .dataframe tbody tr th {\n",
       "        vertical-align: top;\n",
       "    }\n",
       "\n",
       "    .dataframe thead th {\n",
       "        text-align: right;\n",
       "    }\n",
       "</style>\n",
       "<table border=\"1\" class=\"dataframe\">\n",
       "  <thead>\n",
       "    <tr style=\"text-align: right;\">\n",
       "      <th></th>\n",
       "      <th>distance</th>\n",
       "      <th>consume</th>\n",
       "      <th>speed</th>\n",
       "      <th>temp_inside</th>\n",
       "      <th>temp_outside</th>\n",
       "      <th>rain</th>\n",
       "      <th>sun</th>\n",
       "      <th>AC</th>\n",
       "    </tr>\n",
       "  </thead>\n",
       "  <tbody>\n",
       "    <tr>\n",
       "      <td>count</td>\n",
       "      <td>228.000000</td>\n",
       "      <td>228.000000</td>\n",
       "      <td>228.000000</td>\n",
       "      <td>228.000000</td>\n",
       "      <td>228.000000</td>\n",
       "      <td>228.000000</td>\n",
       "      <td>228.000000</td>\n",
       "      <td>228.000000</td>\n",
       "    </tr>\n",
       "    <tr>\n",
       "      <td>mean</td>\n",
       "      <td>18.639912</td>\n",
       "      <td>4.899123</td>\n",
       "      <td>40.820175</td>\n",
       "      <td>21.938007</td>\n",
       "      <td>12.228070</td>\n",
       "      <td>0.140351</td>\n",
       "      <td>0.087719</td>\n",
       "      <td>0.100877</td>\n",
       "    </tr>\n",
       "    <tr>\n",
       "      <td>std</td>\n",
       "      <td>24.179598</td>\n",
       "      <td>1.118408</td>\n",
       "      <td>13.170122</td>\n",
       "      <td>1.177840</td>\n",
       "      <td>7.271373</td>\n",
       "      <td>0.348115</td>\n",
       "      <td>0.283509</td>\n",
       "      <td>0.301829</td>\n",
       "    </tr>\n",
       "    <tr>\n",
       "      <td>min</td>\n",
       "      <td>1.300000</td>\n",
       "      <td>3.300000</td>\n",
       "      <td>16.000000</td>\n",
       "      <td>19.000000</td>\n",
       "      <td>-3.000000</td>\n",
       "      <td>0.000000</td>\n",
       "      <td>0.000000</td>\n",
       "      <td>0.000000</td>\n",
       "    </tr>\n",
       "    <tr>\n",
       "      <td>25%</td>\n",
       "      <td>11.800000</td>\n",
       "      <td>4.200000</td>\n",
       "      <td>32.000000</td>\n",
       "      <td>21.500000</td>\n",
       "      <td>7.000000</td>\n",
       "      <td>0.000000</td>\n",
       "      <td>0.000000</td>\n",
       "      <td>0.000000</td>\n",
       "    </tr>\n",
       "    <tr>\n",
       "      <td>50%</td>\n",
       "      <td>14.150000</td>\n",
       "      <td>4.700000</td>\n",
       "      <td>39.500000</td>\n",
       "      <td>22.000000</td>\n",
       "      <td>11.000000</td>\n",
       "      <td>0.000000</td>\n",
       "      <td>0.000000</td>\n",
       "      <td>0.000000</td>\n",
       "    </tr>\n",
       "    <tr>\n",
       "      <td>75%</td>\n",
       "      <td>18.150000</td>\n",
       "      <td>5.225000</td>\n",
       "      <td>48.000000</td>\n",
       "      <td>22.000000</td>\n",
       "      <td>17.000000</td>\n",
       "      <td>0.000000</td>\n",
       "      <td>0.000000</td>\n",
       "      <td>0.000000</td>\n",
       "    </tr>\n",
       "    <tr>\n",
       "      <td>max</td>\n",
       "      <td>216.100000</td>\n",
       "      <td>12.200000</td>\n",
       "      <td>90.000000</td>\n",
       "      <td>25.500000</td>\n",
       "      <td>31.000000</td>\n",
       "      <td>1.000000</td>\n",
       "      <td>1.000000</td>\n",
       "      <td>1.000000</td>\n",
       "    </tr>\n",
       "  </tbody>\n",
       "</table>\n",
       "</div>"
      ],
      "text/plain": [
       "         distance     consume       speed  temp_inside  temp_outside  \\\n",
       "count  228.000000  228.000000  228.000000   228.000000    228.000000   \n",
       "mean    18.639912    4.899123   40.820175    21.938007     12.228070   \n",
       "std     24.179598    1.118408   13.170122     1.177840      7.271373   \n",
       "min      1.300000    3.300000   16.000000    19.000000     -3.000000   \n",
       "25%     11.800000    4.200000   32.000000    21.500000      7.000000   \n",
       "50%     14.150000    4.700000   39.500000    22.000000     11.000000   \n",
       "75%     18.150000    5.225000   48.000000    22.000000     17.000000   \n",
       "max    216.100000   12.200000   90.000000    25.500000     31.000000   \n",
       "\n",
       "             rain         sun          AC  \n",
       "count  228.000000  228.000000  228.000000  \n",
       "mean     0.140351    0.087719    0.100877  \n",
       "std      0.348115    0.283509    0.301829  \n",
       "min      0.000000    0.000000    0.000000  \n",
       "25%      0.000000    0.000000    0.000000  \n",
       "50%      0.000000    0.000000    0.000000  \n",
       "75%      0.000000    0.000000    0.000000  \n",
       "max      1.000000    1.000000    1.000000  "
      ]
     },
     "execution_count": 13,
     "metadata": {},
     "output_type": "execute_result"
    }
   ],
   "source": [
    "SP98.describe()"
   ]
  },
  {
   "cell_type": "markdown",
   "metadata": {},
   "source": [
    "## データの相関関係確認（とりあえずE10に絞る）"
   ]
  },
  {
   "cell_type": "code",
   "execution_count": 14,
   "metadata": {},
   "outputs": [
    {
     "data": {
      "text/html": [
       "<div>\n",
       "<style scoped>\n",
       "    .dataframe tbody tr th:only-of-type {\n",
       "        vertical-align: middle;\n",
       "    }\n",
       "\n",
       "    .dataframe tbody tr th {\n",
       "        vertical-align: top;\n",
       "    }\n",
       "\n",
       "    .dataframe thead th {\n",
       "        text-align: right;\n",
       "    }\n",
       "</style>\n",
       "<table border=\"1\" class=\"dataframe\">\n",
       "  <thead>\n",
       "    <tr style=\"text-align: right;\">\n",
       "      <th></th>\n",
       "      <th>distance</th>\n",
       "      <th>consume</th>\n",
       "      <th>speed</th>\n",
       "      <th>temp_inside</th>\n",
       "      <th>temp_outside</th>\n",
       "      <th>rain</th>\n",
       "      <th>sun</th>\n",
       "      <th>AC</th>\n",
       "    </tr>\n",
       "  </thead>\n",
       "  <tbody>\n",
       "    <tr>\n",
       "      <td>distance</td>\n",
       "      <td>1.000000</td>\n",
       "      <td>-0.172572</td>\n",
       "      <td>0.633082</td>\n",
       "      <td>0.160371</td>\n",
       "      <td>0.158903</td>\n",
       "      <td>-0.073315</td>\n",
       "      <td>0.027364</td>\n",
       "      <td>0.045776</td>\n",
       "    </tr>\n",
       "    <tr>\n",
       "      <td>consume</td>\n",
       "      <td>-0.172572</td>\n",
       "      <td>1.000000</td>\n",
       "      <td>-0.233318</td>\n",
       "      <td>-0.069697</td>\n",
       "      <td>-0.322918</td>\n",
       "      <td>0.248199</td>\n",
       "      <td>-0.160503</td>\n",
       "      <td>0.043591</td>\n",
       "    </tr>\n",
       "    <tr>\n",
       "      <td>speed</td>\n",
       "      <td>0.633082</td>\n",
       "      <td>-0.233318</td>\n",
       "      <td>1.000000</td>\n",
       "      <td>0.034690</td>\n",
       "      <td>0.091093</td>\n",
       "      <td>-0.001633</td>\n",
       "      <td>0.128376</td>\n",
       "      <td>0.125102</td>\n",
       "    </tr>\n",
       "    <tr>\n",
       "      <td>temp_inside</td>\n",
       "      <td>0.160371</td>\n",
       "      <td>-0.069697</td>\n",
       "      <td>0.034690</td>\n",
       "      <td>1.000000</td>\n",
       "      <td>0.412592</td>\n",
       "      <td>0.058231</td>\n",
       "      <td>0.324870</td>\n",
       "      <td>0.308495</td>\n",
       "    </tr>\n",
       "    <tr>\n",
       "      <td>temp_outside</td>\n",
       "      <td>0.158903</td>\n",
       "      <td>-0.322918</td>\n",
       "      <td>0.091093</td>\n",
       "      <td>0.412592</td>\n",
       "      <td>1.000000</td>\n",
       "      <td>-0.097756</td>\n",
       "      <td>0.236743</td>\n",
       "      <td>0.048762</td>\n",
       "    </tr>\n",
       "    <tr>\n",
       "      <td>rain</td>\n",
       "      <td>-0.073315</td>\n",
       "      <td>0.248199</td>\n",
       "      <td>-0.001633</td>\n",
       "      <td>0.058231</td>\n",
       "      <td>-0.097756</td>\n",
       "      <td>1.000000</td>\n",
       "      <td>-0.094916</td>\n",
       "      <td>0.336123</td>\n",
       "    </tr>\n",
       "    <tr>\n",
       "      <td>sun</td>\n",
       "      <td>0.027364</td>\n",
       "      <td>-0.160503</td>\n",
       "      <td>0.128376</td>\n",
       "      <td>0.324870</td>\n",
       "      <td>0.236743</td>\n",
       "      <td>-0.094916</td>\n",
       "      <td>1.000000</td>\n",
       "      <td>0.171118</td>\n",
       "    </tr>\n",
       "    <tr>\n",
       "      <td>AC</td>\n",
       "      <td>0.045776</td>\n",
       "      <td>0.043591</td>\n",
       "      <td>0.125102</td>\n",
       "      <td>0.308495</td>\n",
       "      <td>0.048762</td>\n",
       "      <td>0.336123</td>\n",
       "      <td>0.171118</td>\n",
       "      <td>1.000000</td>\n",
       "    </tr>\n",
       "  </tbody>\n",
       "</table>\n",
       "</div>"
      ],
      "text/plain": [
       "              distance   consume     speed  temp_inside  temp_outside  \\\n",
       "distance      1.000000 -0.172572  0.633082     0.160371      0.158903   \n",
       "consume      -0.172572  1.000000 -0.233318    -0.069697     -0.322918   \n",
       "speed         0.633082 -0.233318  1.000000     0.034690      0.091093   \n",
       "temp_inside   0.160371 -0.069697  0.034690     1.000000      0.412592   \n",
       "temp_outside  0.158903 -0.322918  0.091093     0.412592      1.000000   \n",
       "rain         -0.073315  0.248199 -0.001633     0.058231     -0.097756   \n",
       "sun           0.027364 -0.160503  0.128376     0.324870      0.236743   \n",
       "AC            0.045776  0.043591  0.125102     0.308495      0.048762   \n",
       "\n",
       "                  rain       sun        AC  \n",
       "distance     -0.073315  0.027364  0.045776  \n",
       "consume       0.248199 -0.160503  0.043591  \n",
       "speed        -0.001633  0.128376  0.125102  \n",
       "temp_inside   0.058231  0.324870  0.308495  \n",
       "temp_outside -0.097756  0.236743  0.048762  \n",
       "rain          1.000000 -0.094916  0.336123  \n",
       "sun          -0.094916  1.000000  0.171118  \n",
       "AC            0.336123  0.171118  1.000000  "
      ]
     },
     "execution_count": 14,
     "metadata": {},
     "output_type": "execute_result"
    }
   ],
   "source": [
    "# 相関係数(correlation)の算出\n",
    "E10.corr()"
   ]
  },
  {
   "cell_type": "code",
   "execution_count": 15,
   "metadata": {},
   "outputs": [
    {
     "data": {
      "image/png": "[encoded data removed]",
      "text/plain": [
       "<Figure size 432x288 with 2 Axes>"
      ]
     },
     "metadata": {
      "needs_background": "light"
     },
     "output_type": "display_data"
    }
   ],
   "source": [
    "# 相関係数をヒートマップにして可視化\n",
    "sns.heatmap(E10.corr())\n",
    "plt.show()"
   ]
  },
  {
   "cell_type": "markdown",
   "metadata": {},
   "source": [
    "燃費は$L/100km$だとイメージしにくいため$km/L$に変換する。"
   ]
  },
  {
   "cell_type": "code",
   "execution_count": 16,
   "metadata": {},
   "outputs": [],
   "source": [
    "E10['consume2'] = 1 / (100 * E10['consume'])"
   ]
  },
  {
   "cell_type": "code",
   "execution_count": 17,
   "metadata": {},
   "outputs": [
    {
     "data": {
      "image/png": "[encoded data removed]",
      "text/plain": [
       "<Figure size 432x288 with 2 Axes>"
      ]
     },
     "metadata": {
      "needs_background": "light"
     },
     "output_type": "display_data"
    }
   ],
   "source": [
    "# 相関係数をヒートマップにして可視化\n",
    "sns.heatmap(E10.corr())\n",
    "plt.show()"
   ]
  },
  {
   "cell_type": "code",
   "execution_count": 18,
   "metadata": {},
   "outputs": [
    {
     "data": {
      "text/html": [
       "<div>\n",
       "<style scoped>\n",
       "    .dataframe tbody tr th:only-of-type {\n",
       "        vertical-align: middle;\n",
       "    }\n",
       "\n",
       "    .dataframe tbody tr th {\n",
       "        vertical-align: top;\n",
       "    }\n",
       "\n",
       "    .dataframe thead th {\n",
       "        text-align: right;\n",
       "    }\n",
       "</style>\n",
       "<table border=\"1\" class=\"dataframe\">\n",
       "  <thead>\n",
       "    <tr style=\"text-align: right;\">\n",
       "      <th></th>\n",
       "      <th>distance</th>\n",
       "      <th>consume</th>\n",
       "      <th>speed</th>\n",
       "      <th>temp_inside</th>\n",
       "      <th>temp_outside</th>\n",
       "      <th>rain</th>\n",
       "      <th>sun</th>\n",
       "      <th>AC</th>\n",
       "      <th>consume2</th>\n",
       "    </tr>\n",
       "  </thead>\n",
       "  <tbody>\n",
       "    <tr>\n",
       "      <td>distance</td>\n",
       "      <td>1.000000</td>\n",
       "      <td>-0.172572</td>\n",
       "      <td>0.633082</td>\n",
       "      <td>0.160371</td>\n",
       "      <td>0.158903</td>\n",
       "      <td>-0.073315</td>\n",
       "      <td>0.027364</td>\n",
       "      <td>0.045776</td>\n",
       "      <td>0.128499</td>\n",
       "    </tr>\n",
       "    <tr>\n",
       "      <td>consume</td>\n",
       "      <td>-0.172572</td>\n",
       "      <td>1.000000</td>\n",
       "      <td>-0.233318</td>\n",
       "      <td>-0.069697</td>\n",
       "      <td>-0.322918</td>\n",
       "      <td>0.248199</td>\n",
       "      <td>-0.160503</td>\n",
       "      <td>0.043591</td>\n",
       "      <td>-0.948085</td>\n",
       "    </tr>\n",
       "    <tr>\n",
       "      <td>speed</td>\n",
       "      <td>0.633082</td>\n",
       "      <td>-0.233318</td>\n",
       "      <td>1.000000</td>\n",
       "      <td>0.034690</td>\n",
       "      <td>0.091093</td>\n",
       "      <td>-0.001633</td>\n",
       "      <td>0.128376</td>\n",
       "      <td>0.125102</td>\n",
       "      <td>0.182789</td>\n",
       "    </tr>\n",
       "    <tr>\n",
       "      <td>temp_inside</td>\n",
       "      <td>0.160371</td>\n",
       "      <td>-0.069697</td>\n",
       "      <td>0.034690</td>\n",
       "      <td>1.000000</td>\n",
       "      <td>0.412592</td>\n",
       "      <td>0.058231</td>\n",
       "      <td>0.324870</td>\n",
       "      <td>0.308495</td>\n",
       "      <td>0.058469</td>\n",
       "    </tr>\n",
       "    <tr>\n",
       "      <td>temp_outside</td>\n",
       "      <td>0.158903</td>\n",
       "      <td>-0.322918</td>\n",
       "      <td>0.091093</td>\n",
       "      <td>0.412592</td>\n",
       "      <td>1.000000</td>\n",
       "      <td>-0.097756</td>\n",
       "      <td>0.236743</td>\n",
       "      <td>0.048762</td>\n",
       "      <td>0.403690</td>\n",
       "    </tr>\n",
       "    <tr>\n",
       "      <td>rain</td>\n",
       "      <td>-0.073315</td>\n",
       "      <td>0.248199</td>\n",
       "      <td>-0.001633</td>\n",
       "      <td>0.058231</td>\n",
       "      <td>-0.097756</td>\n",
       "      <td>1.000000</td>\n",
       "      <td>-0.094916</td>\n",
       "      <td>0.336123</td>\n",
       "      <td>-0.215400</td>\n",
       "    </tr>\n",
       "    <tr>\n",
       "      <td>sun</td>\n",
       "      <td>0.027364</td>\n",
       "      <td>-0.160503</td>\n",
       "      <td>0.128376</td>\n",
       "      <td>0.324870</td>\n",
       "      <td>0.236743</td>\n",
       "      <td>-0.094916</td>\n",
       "      <td>1.000000</td>\n",
       "      <td>0.171118</td>\n",
       "      <td>0.181016</td>\n",
       "    </tr>\n",
       "    <tr>\n",
       "      <td>AC</td>\n",
       "      <td>0.045776</td>\n",
       "      <td>0.043591</td>\n",
       "      <td>0.125102</td>\n",
       "      <td>0.308495</td>\n",
       "      <td>0.048762</td>\n",
       "      <td>0.336123</td>\n",
       "      <td>0.171118</td>\n",
       "      <td>1.000000</td>\n",
       "      <td>-0.052628</td>\n",
       "    </tr>\n",
       "    <tr>\n",
       "      <td>consume2</td>\n",
       "      <td>0.128499</td>\n",
       "      <td>-0.948085</td>\n",
       "      <td>0.182789</td>\n",
       "      <td>0.058469</td>\n",
       "      <td>0.403690</td>\n",
       "      <td>-0.215400</td>\n",
       "      <td>0.181016</td>\n",
       "      <td>-0.052628</td>\n",
       "      <td>1.000000</td>\n",
       "    </tr>\n",
       "  </tbody>\n",
       "</table>\n",
       "</div>"
      ],
      "text/plain": [
       "              distance   consume     speed  temp_inside  temp_outside  \\\n",
       "distance      1.000000 -0.172572  0.633082     0.160371      0.158903   \n",
       "consume      -0.172572  1.000000 -0.233318    -0.069697     -0.322918   \n",
       "speed         0.633082 -0.233318  1.000000     0.034690      0.091093   \n",
       "temp_inside   0.160371 -0.069697  0.034690     1.000000      0.412592   \n",
       "temp_outside  0.158903 -0.322918  0.091093     0.412592      1.000000   \n",
       "rain         -0.073315  0.248199 -0.001633     0.058231     -0.097756   \n",
       "sun           0.027364 -0.160503  0.128376     0.324870      0.236743   \n",
       "AC            0.045776  0.043591  0.125102     0.308495      0.048762   \n",
       "consume2      0.128499 -0.948085  0.182789     0.058469      0.403690   \n",
       "\n",
       "                  rain       sun        AC  consume2  \n",
       "distance     -0.073315  0.027364  0.045776  0.128499  \n",
       "consume       0.248199 -0.160503  0.043591 -0.948085  \n",
       "speed        -0.001633  0.128376  0.125102  0.182789  \n",
       "temp_inside   0.058231  0.324870  0.308495  0.058469  \n",
       "temp_outside -0.097756  0.236743  0.048762  0.403690  \n",
       "rain          1.000000 -0.094916  0.336123 -0.215400  \n",
       "sun          -0.094916  1.000000  0.171118  0.181016  \n",
       "AC            0.336123  0.171118  1.000000 -0.052628  \n",
       "consume2     -0.215400  0.181016 -0.052628  1.000000  "
      ]
     },
     "execution_count": 18,
     "metadata": {},
     "output_type": "execute_result"
    }
   ],
   "source": [
    "E10.corr()"
   ]
  },
  {
   "cell_type": "markdown",
   "metadata": {},
   "source": [
    "外気温との相関関係が強いのをどうにかしたいが、時間がないため、一旦線形回帰をかける。"
   ]
  },
  {
   "cell_type": "markdown",
   "metadata": {},
   "source": [
    "## 説明変数\n",
    "\n",
    "- distance(距離: km)\n",
    "- speed(速度: km/h)\n",
    "- temp_inside(車内気温: ℃)\n",
    "- temp_outside(車外気温: ℃)\n",
    "\n",
    "### 目的変数\n",
    "\n",
    "- consume2(燃費: km/L)\n",
    "\n",
    "### 扱い方が分からないので一旦除外\n",
    "\n",
    "- rain(雨の日)\n",
    "- sun(晴れの日)\n",
    "- AC(エアコンOn/Off)"
   ]
  },
  {
   "cell_type": "code",
   "execution_count": 19,
   "metadata": {},
   "outputs": [],
   "source": [
    "y_e10 = E10[\"consume2\"].values"
   ]
  },
  {
   "cell_type": "code",
   "execution_count": 20,
   "metadata": {},
   "outputs": [],
   "source": [
    "#X = pd.concat([E10.iloc[:, 0], E10.iloc[:, 2:]], axis=1)\n",
    "X_e10 = E10[['distance', 'speed', 'temp_inside', 'temp_outside']].values"
   ]
  },
  {
   "cell_type": "code",
   "execution_count": 21,
   "metadata": {},
   "outputs": [],
   "source": [
    "# データ系列数\n",
    "M = X_e10.shape[0]\n",
    "# 入力データ数\n",
    "D = X_e10.shape[1]\n",
    "# 繰り返し回数\n",
    "iters = 3000\n",
    "# 学習率\n",
    "alpha = 0.0001\n",
    "# 重みベクトルの初期化\n",
    "W = np.ones(D)\n",
    "# 評価結果記録用\n",
    "history = np.zeros((0,2))"
   ]
  },
  {
   "cell_type": "code",
   "execution_count": 22,
   "metadata": {},
   "outputs": [],
   "source": [
    "# 予測関数\n",
    "def pred(x, w):\n",
    "    return(x @ w)"
   ]
  },
  {
   "cell_type": "code",
   "execution_count": 23,
   "metadata": {},
   "outputs": [
    {
     "name": "stdout",
     "output_type": "stream",
     "text": [
      "iter = 0  loss = 5205.852746\n",
      "iter = 100  loss = 7.335153\n",
      "iter = 200  loss = 2.703484\n",
      "iter = 300  loss = 0.999027\n",
      "iter = 400  loss = 0.370213\n",
      "iter = 500  loss = 0.137845\n",
      "iter = 600  loss = 0.051738\n",
      "iter = 700  loss = 0.019679\n",
      "iter = 800  loss = 0.007647\n",
      "iter = 900  loss = 0.003071\n",
      "iter = 1000  loss = 0.001294\n",
      "iter = 1100  loss = 0.000580\n",
      "iter = 1200  loss = 0.000279\n",
      "iter = 1300  loss = 0.000145\n",
      "iter = 1400  loss = 0.000080\n",
      "iter = 1500  loss = 0.000046\n",
      "iter = 1600  loss = 0.000028\n",
      "iter = 1700  loss = 0.000017\n",
      "iter = 1800  loss = 0.000011\n",
      "iter = 1900  loss = 0.000007\n",
      "iter = 2000  loss = 0.000004\n",
      "iter = 2100  loss = 0.000003\n",
      "iter = 2200  loss = 0.000002\n",
      "iter = 2300  loss = 0.000001\n",
      "iter = 2400  loss = 0.000001\n",
      "iter = 2500  loss = 0.000000\n",
      "iter = 2600  loss = 0.000000\n",
      "iter = 2700  loss = 0.000000\n",
      "iter = 2800  loss = 0.000000\n",
      "iter = 2900  loss = 0.000000\n"
     ]
    }
   ],
   "source": [
    "# 繰り返しループ\n",
    "for k in range(iters):\n",
    "    yp = pred(X_e10, W)\n",
    "    yd = yp - y_e10\n",
    "    W = W - alpha * (X_e10.T @ yd) / M\n",
    "    if(k % 100 == 0):\n",
    "        loss = np.mean(yd ** 2) / 2\n",
    "        history = np.vstack((history, np.array([k, loss])))\n",
    "        print(\"iter = %d  loss = %f\" % (k, loss))"
   ]
  },
  {
   "cell_type": "code",
   "execution_count": 24,
   "metadata": {},
   "outputs": [
    {
     "data": {
      "image/png": "[encoded data removed]",
      "text/plain": [
       "<Figure size 432x288 with 1 Axes>"
      ]
     },
     "metadata": {
      "needs_background": "light"
     },
     "output_type": "display_data"
    }
   ],
   "source": [
    "# 学習曲線の描画\n",
    "plt.plot(history[:,0], history[:,1])\n",
    "plt.show()"
   ]
  },
  {
   "cell_type": "markdown",
   "metadata": {},
   "source": [
    "## Scikit-learnを用いて線形回帰"
   ]
  },
  {
   "cell_type": "code",
   "execution_count": 25,
   "metadata": {},
   "outputs": [],
   "source": [
    "from sklearn.linear_model import LinearRegression, SGDClassifier\n",
    "from sklearn.metrics import mean_squared_error, mean_absolute_error # 回帰問題における性能評価に関する関数\n",
    "from  sklearn.metrics import accuracy_score, precision_recall_fscore_support, confusion_matrix # 回帰問題における性能評価に関する関数"
   ]
  },
  {
   "cell_type": "code",
   "execution_count": 26,
   "metadata": {},
   "outputs": [
    {
     "data": {
      "text/plain": [
       "LinearRegression(copy_X=True, fit_intercept=True, n_jobs=None, normalize=False)"
      ]
     },
     "execution_count": 26,
     "metadata": {},
     "output_type": "execute_result"
    }
   ],
   "source": [
    "# 線形回帰\n",
    "regr = LinearRegression(fit_intercept=True)\n",
    "regr.fit(X_e10, y_e10)"
   ]
  },
  {
   "cell_type": "code",
   "execution_count": 27,
   "metadata": {},
   "outputs": [
    {
     "name": "stdout",
     "output_type": "stream",
     "text": [
      "MSE = 0.0\n",
      "MAE = 0.0\n",
      "RMSE = 0.0\n"
     ]
    }
   ],
   "source": [
    "# 値を予測\n",
    "y_pred = regr.predict(X_e10)\n",
    "\n",
    "# MSEを計算\n",
    "mse = mean_squared_error(y_e10, y_pred) \n",
    "print(\"MSE = %s\"%round(mse,3) )  \n",
    "\n",
    "# MAEを計算\n",
    "mae = mean_absolute_error(y_e10, y_pred) \n",
    "print(\"MAE = %s\"%round(mae,3) )\n",
    "\n",
    "# RMSEを計算\n",
    "rmse = np.sqrt(mse)\n",
    "print(\"RMSE = %s\"%round(rmse, 3) )"
   ]
  },
  {
   "cell_type": "code",
   "execution_count": 30,
   "metadata": {},
   "outputs": [
    {
     "data": {
      "text/plain": [
       "0.0020814378003480806"
      ]
     },
     "execution_count": 30,
     "metadata": {},
     "output_type": "execute_result"
    }
   ],
   "source": [
    "y_pred.mean()"
   ]
  },
  {
   "cell_type": "markdown",
   "metadata": {},
   "source": [
    "E10での燃費は0.00208 km/Lと解釈する？"
   ]
  }
 ],
 "metadata": {
  "kernelspec": {
   "display_name": "Python 3",
   "language": "python",
   "name": "python3"
  },
  "language_info": {
   "codemirror_mode": {
    "name": "ipython",
    "version": 3
   },
   "file_extension": ".py",
   "mimetype": "text/x-python",
   "name": "python",
   "nbconvert_exporter": "python",
   "pygments_lexer": "ipython3",
   "version": "3.6.9"
  }
 },
 "nbformat": 4,
 "nbformat_minor": 2
}
